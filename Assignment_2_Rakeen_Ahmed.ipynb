{
  "cells": [
    {
      "cell_type": "markdown",
      "metadata": {
        "id": "zXy_gsAdjy6N"
      },
      "source": [
        "### BA 713 - Machine Learning and AI\n",
        "#### Assignment 2\n",
        "#### Rakeen Ahmed - 301307050"
      ]
    },
    {
      "cell_type": "markdown",
      "metadata": {
        "id": "I7CT_beQjwpy"
      },
      "source": [
        "##### 1) Import all the necessary libraries, read the dataset using pandas and analyze the data. For data preparation phase, save the “benign” and “attack” dataframe separately. Drop the “Label” column from the dataset and convert benign and attack dataframes to numpy arrays. Now, split the data into test and train (use 75% observations for train set and the remaining 25% for test set). Then, scale the train and test data using MinMax Scaler. [10% marks]."
      ]
    },
    {
      "cell_type": "code",
      "execution_count": 6,
      "metadata": {
        "id": "oj75rVuseqjK"
      },
      "outputs": [],
      "source": [
        "#import neccesary libraries\n",
        "import numpy as np\n",
        "import pandas as pd\n",
        "import matplotlib.pyplot as plt\n",
        "\n",
        "import tensorflow as tf\n",
        "from tensorflow import keras\n",
        "from keras.layers import Dense, Input, Lambda\n",
        "from keras import Model\n",
        "from keras import metrics, optimizers, regularizers\n",
        "\n",
        "from sklearn.model_selection import train_test_split\n",
        "from sklearn.preprocessing import MinMaxScaler,StandardScaler\n",
        "import seaborn as sns\n",
        "from sklearn.metrics import (confusion_matrix, precision_recall_curve, auc,roc_curve, recall_score, classification_report, f1_score,precision_recall_fscore_support)"
      ]
    },
    {
      "cell_type": "code",
      "execution_count": 3,
      "metadata": {
        "id": "QNztuMfZjYbE"
      },
      "outputs": [],
      "source": [
        "df = pd.read_csv('network_attack_data.csv')"
      ]
    },
    {
      "cell_type": "code",
      "execution_count": 4,
      "metadata": {
        "colab": {
          "base_uri": "https://localhost:8080/",
          "height": 299
        },
        "id": "mM3zg42PjpEa",
        "outputId": "4577c604-706c-4e5a-c2af-da7aab53ab06"
      },
      "outputs": [
        {
          "data": {
            "text/html": [
              "\n",
              "  <div id=\"df-2edd8bff-9ab1-43d9-964a-991ee344f40e\">\n",
              "    <div class=\"colab-df-container\">\n",
              "      <div>\n",
              "<style scoped>\n",
              "    .dataframe tbody tr th:only-of-type {\n",
              "        vertical-align: middle;\n",
              "    }\n",
              "\n",
              "    .dataframe tbody tr th {\n",
              "        vertical-align: top;\n",
              "    }\n",
              "\n",
              "    .dataframe thead th {\n",
              "        text-align: right;\n",
              "    }\n",
              "</style>\n",
              "<table border=\"1\" class=\"dataframe\">\n",
              "  <thead>\n",
              "    <tr style=\"text-align: right;\">\n",
              "      <th></th>\n",
              "      <th>F_1</th>\n",
              "      <th>F_2</th>\n",
              "      <th>F_3</th>\n",
              "      <th>F_4</th>\n",
              "      <th>F_5</th>\n",
              "      <th>F_6</th>\n",
              "      <th>F_7</th>\n",
              "      <th>F_8</th>\n",
              "      <th>F_9</th>\n",
              "      <th>F_10</th>\n",
              "      <th>...</th>\n",
              "      <th>F_68</th>\n",
              "      <th>F_69</th>\n",
              "      <th>F_70</th>\n",
              "      <th>F_71</th>\n",
              "      <th>F_72</th>\n",
              "      <th>F_73</th>\n",
              "      <th>F_74</th>\n",
              "      <th>F_75</th>\n",
              "      <th>F_76</th>\n",
              "      <th>Label</th>\n",
              "    </tr>\n",
              "  </thead>\n",
              "  <tbody>\n",
              "    <tr>\n",
              "      <th>0</th>\n",
              "      <td>109998919</td>\n",
              "      <td>4</td>\n",
              "      <td>3</td>\n",
              "      <td>525</td>\n",
              "      <td>0.0</td>\n",
              "      <td>520</td>\n",
              "      <td>0</td>\n",
              "      <td>131.25</td>\n",
              "      <td>259.177385</td>\n",
              "      <td>0</td>\n",
              "      <td>...</td>\n",
              "      <td>32</td>\n",
              "      <td>5735.0</td>\n",
              "      <td>0.0</td>\n",
              "      <td>5735.0</td>\n",
              "      <td>5735.0</td>\n",
              "      <td>110000000.0</td>\n",
              "      <td>0.0</td>\n",
              "      <td>110000000.0</td>\n",
              "      <td>110000000.0</td>\n",
              "      <td>1</td>\n",
              "    </tr>\n",
              "    <tr>\n",
              "      <th>1</th>\n",
              "      <td>109993343</td>\n",
              "      <td>4</td>\n",
              "      <td>3</td>\n",
              "      <td>531</td>\n",
              "      <td>0.0</td>\n",
              "      <td>520</td>\n",
              "      <td>0</td>\n",
              "      <td>132.75</td>\n",
              "      <td>258.218738</td>\n",
              "      <td>0</td>\n",
              "      <td>...</td>\n",
              "      <td>32</td>\n",
              "      <td>5437.0</td>\n",
              "      <td>0.0</td>\n",
              "      <td>5437.0</td>\n",
              "      <td>5437.0</td>\n",
              "      <td>110000000.0</td>\n",
              "      <td>0.0</td>\n",
              "      <td>110000000.0</td>\n",
              "      <td>110000000.0</td>\n",
              "      <td>1</td>\n",
              "    </tr>\n",
              "    <tr>\n",
              "      <th>2</th>\n",
              "      <td>109988359</td>\n",
              "      <td>4</td>\n",
              "      <td>3</td>\n",
              "      <td>535</td>\n",
              "      <td>0.0</td>\n",
              "      <td>520</td>\n",
              "      <td>0</td>\n",
              "      <td>133.75</td>\n",
              "      <td>257.597069</td>\n",
              "      <td>0</td>\n",
              "      <td>...</td>\n",
              "      <td>32</td>\n",
              "      <td>5505.0</td>\n",
              "      <td>0.0</td>\n",
              "      <td>5505.0</td>\n",
              "      <td>5505.0</td>\n",
              "      <td>110000000.0</td>\n",
              "      <td>0.0</td>\n",
              "      <td>110000000.0</td>\n",
              "      <td>110000000.0</td>\n",
              "      <td>1</td>\n",
              "    </tr>\n",
              "    <tr>\n",
              "      <th>3</th>\n",
              "      <td>109982960</td>\n",
              "      <td>4</td>\n",
              "      <td>3</td>\n",
              "      <td>530</td>\n",
              "      <td>0.0</td>\n",
              "      <td>520</td>\n",
              "      <td>0</td>\n",
              "      <td>132.50</td>\n",
              "      <td>258.376341</td>\n",
              "      <td>0</td>\n",
              "      <td>...</td>\n",
              "      <td>32</td>\n",
              "      <td>5303.0</td>\n",
              "      <td>0.0</td>\n",
              "      <td>5303.0</td>\n",
              "      <td>5303.0</td>\n",
              "      <td>110000000.0</td>\n",
              "      <td>0.0</td>\n",
              "      <td>110000000.0</td>\n",
              "      <td>110000000.0</td>\n",
              "      <td>1</td>\n",
              "    </tr>\n",
              "    <tr>\n",
              "      <th>4</th>\n",
              "      <td>109977744</td>\n",
              "      <td>4</td>\n",
              "      <td>3</td>\n",
              "      <td>530</td>\n",
              "      <td>0.0</td>\n",
              "      <td>520</td>\n",
              "      <td>0</td>\n",
              "      <td>132.50</td>\n",
              "      <td>258.376341</td>\n",
              "      <td>0</td>\n",
              "      <td>...</td>\n",
              "      <td>32</td>\n",
              "      <td>5356.0</td>\n",
              "      <td>0.0</td>\n",
              "      <td>5356.0</td>\n",
              "      <td>5356.0</td>\n",
              "      <td>110000000.0</td>\n",
              "      <td>0.0</td>\n",
              "      <td>110000000.0</td>\n",
              "      <td>110000000.0</td>\n",
              "      <td>1</td>\n",
              "    </tr>\n",
              "  </tbody>\n",
              "</table>\n",
              "<p>5 rows × 77 columns</p>\n",
              "</div>\n",
              "      <button class=\"colab-df-convert\" onclick=\"convertToInteractive('df-2edd8bff-9ab1-43d9-964a-991ee344f40e')\"\n",
              "              title=\"Convert this dataframe to an interactive table.\"\n",
              "              style=\"display:none;\">\n",
              "        \n",
              "  <svg xmlns=\"http://www.w3.org/2000/svg\" height=\"24px\"viewBox=\"0 0 24 24\"\n",
              "       width=\"24px\">\n",
              "    <path d=\"M0 0h24v24H0V0z\" fill=\"none\"/>\n",
              "    <path d=\"M18.56 5.44l.94 2.06.94-2.06 2.06-.94-2.06-.94-.94-2.06-.94 2.06-2.06.94zm-11 1L8.5 8.5l.94-2.06 2.06-.94-2.06-.94L8.5 2.5l-.94 2.06-2.06.94zm10 10l.94 2.06.94-2.06 2.06-.94-2.06-.94-.94-2.06-.94 2.06-2.06.94z\"/><path d=\"M17.41 7.96l-1.37-1.37c-.4-.4-.92-.59-1.43-.59-.52 0-1.04.2-1.43.59L10.3 9.45l-7.72 7.72c-.78.78-.78 2.05 0 2.83L4 21.41c.39.39.9.59 1.41.59.51 0 1.02-.2 1.41-.59l7.78-7.78 2.81-2.81c.8-.78.8-2.07 0-2.86zM5.41 20L4 18.59l7.72-7.72 1.47 1.35L5.41 20z\"/>\n",
              "  </svg>\n",
              "      </button>\n",
              "      \n",
              "  <style>\n",
              "    .colab-df-container {\n",
              "      display:flex;\n",
              "      flex-wrap:wrap;\n",
              "      gap: 12px;\n",
              "    }\n",
              "\n",
              "    .colab-df-convert {\n",
              "      background-color: #E8F0FE;\n",
              "      border: none;\n",
              "      border-radius: 50%;\n",
              "      cursor: pointer;\n",
              "      display: none;\n",
              "      fill: #1967D2;\n",
              "      height: 32px;\n",
              "      padding: 0 0 0 0;\n",
              "      width: 32px;\n",
              "    }\n",
              "\n",
              "    .colab-df-convert:hover {\n",
              "      background-color: #E2EBFA;\n",
              "      box-shadow: 0px 1px 2px rgba(60, 64, 67, 0.3), 0px 1px 3px 1px rgba(60, 64, 67, 0.15);\n",
              "      fill: #174EA6;\n",
              "    }\n",
              "\n",
              "    [theme=dark] .colab-df-convert {\n",
              "      background-color: #3B4455;\n",
              "      fill: #D2E3FC;\n",
              "    }\n",
              "\n",
              "    [theme=dark] .colab-df-convert:hover {\n",
              "      background-color: #434B5C;\n",
              "      box-shadow: 0px 1px 3px 1px rgba(0, 0, 0, 0.15);\n",
              "      filter: drop-shadow(0px 1px 2px rgba(0, 0, 0, 0.3));\n",
              "      fill: #FFFFFF;\n",
              "    }\n",
              "  </style>\n",
              "\n",
              "      <script>\n",
              "        const buttonEl =\n",
              "          document.querySelector('#df-2edd8bff-9ab1-43d9-964a-991ee344f40e button.colab-df-convert');\n",
              "        buttonEl.style.display =\n",
              "          google.colab.kernel.accessAllowed ? 'block' : 'none';\n",
              "\n",
              "        async function convertToInteractive(key) {\n",
              "          const element = document.querySelector('#df-2edd8bff-9ab1-43d9-964a-991ee344f40e');\n",
              "          const dataTable =\n",
              "            await google.colab.kernel.invokeFunction('convertToInteractive',\n",
              "                                                     [key], {});\n",
              "          if (!dataTable) return;\n",
              "\n",
              "          const docLinkHtml = 'Like what you see? Visit the ' +\n",
              "            '<a target=\"_blank\" href=https://colab.research.google.com/notebooks/data_table.ipynb>data table notebook</a>'\n",
              "            + ' to learn more about interactive tables.';\n",
              "          element.innerHTML = '';\n",
              "          dataTable['output_type'] = 'display_data';\n",
              "          await google.colab.output.renderOutput(dataTable, element);\n",
              "          const docLink = document.createElement('div');\n",
              "          docLink.innerHTML = docLinkHtml;\n",
              "          element.appendChild(docLink);\n",
              "        }\n",
              "      </script>\n",
              "    </div>\n",
              "  </div>\n",
              "  "
            ],
            "text/plain": [
              "         F_1  F_2  F_3  F_4  F_5  F_6  F_7     F_8         F_9  F_10  ...  \\\n",
              "0  109998919    4    3  525  0.0  520    0  131.25  259.177385     0  ...   \n",
              "1  109993343    4    3  531  0.0  520    0  132.75  258.218738     0  ...   \n",
              "2  109988359    4    3  535  0.0  520    0  133.75  257.597069     0  ...   \n",
              "3  109982960    4    3  530  0.0  520    0  132.50  258.376341     0  ...   \n",
              "4  109977744    4    3  530  0.0  520    0  132.50  258.376341     0  ...   \n",
              "\n",
              "   F_68    F_69  F_70    F_71    F_72         F_73  F_74         F_75  \\\n",
              "0    32  5735.0   0.0  5735.0  5735.0  110000000.0   0.0  110000000.0   \n",
              "1    32  5437.0   0.0  5437.0  5437.0  110000000.0   0.0  110000000.0   \n",
              "2    32  5505.0   0.0  5505.0  5505.0  110000000.0   0.0  110000000.0   \n",
              "3    32  5303.0   0.0  5303.0  5303.0  110000000.0   0.0  110000000.0   \n",
              "4    32  5356.0   0.0  5356.0  5356.0  110000000.0   0.0  110000000.0   \n",
              "\n",
              "          F_76  Label  \n",
              "0  110000000.0      1  \n",
              "1  110000000.0      1  \n",
              "2  110000000.0      1  \n",
              "3  110000000.0      1  \n",
              "4  110000000.0      1  \n",
              "\n",
              "[5 rows x 77 columns]"
            ]
          },
          "execution_count": 4,
          "metadata": {},
          "output_type": "execute_result"
        }
      ],
      "source": [
        "df.head()"
      ]
    },
    {
      "cell_type": "code",
      "execution_count": 13,
      "metadata": {
        "colab": {
          "base_uri": "https://localhost:8080/"
        },
        "id": "J73YuwaBkxws",
        "outputId": "9673d454-194a-439d-c225-773730eb7c4f"
      },
      "outputs": [
        {
          "data": {
            "text/plain": [
              "(28485, 77)"
            ]
          },
          "execution_count": 13,
          "metadata": {},
          "output_type": "execute_result"
        }
      ],
      "source": [
        "#check data shape\n",
        "df.shape"
      ]
    },
    {
      "cell_type": "code",
      "execution_count": 12,
      "metadata": {
        "colab": {
          "base_uri": "https://localhost:8080/"
        },
        "id": "EU1y3u-HkGMX",
        "outputId": "35d70625-05f3-44aa-9231-348af850f174"
      },
      "outputs": [
        {
          "data": {
            "text/plain": [
              "0    22987\n",
              "1     5498\n",
              "Name: Label, dtype: int64"
            ]
          },
          "execution_count": 12,
          "metadata": {},
          "output_type": "execute_result"
        }
      ],
      "source": [
        "#check number of attack and benign labels\n",
        "df.Label.value_counts()"
      ]
    },
    {
      "cell_type": "code",
      "execution_count": 17,
      "metadata": {
        "colab": {
          "base_uri": "https://localhost:8080/"
        },
        "id": "8noFzhgikc2i",
        "outputId": "d2fab917-8034-4567-c5fb-0930690d3ea5"
      },
      "outputs": [
        {
          "name": "stdout",
          "output_type": "stream",
          "text": [
            "Attack Data: 5498\n",
            "Benign Data: 22987\n"
          ]
        }
      ],
      "source": [
        "#assign attack and benign instances to separate dataframes\n",
        "attack = df.Label == 1\n",
        "benign = df.Label == 0\n",
        "\n",
        "df_attack = df[attack]\n",
        "df_benign = df[benign]\n",
        "\n",
        "print(f'Attack Data: {len(df_attack)}')\n",
        "print(f'Benign Data: {len(df_benign)}')"
      ]
    },
    {
      "cell_type": "code",
      "execution_count": 20,
      "metadata": {
        "colab": {
          "base_uri": "https://localhost:8080/"
        },
        "id": "JNpCYRFkmDnI",
        "outputId": "93d52d09-cb8d-4fe4-a6c4-0e9e7e797eae"
      },
      "outputs": [
        {
          "name": "stdout",
          "output_type": "stream",
          "text": [
            "x_attack shape:5498\n",
            "x_benign shape:22987\n",
            "y_attack shape:5498\n",
            "y_benign shape:22987\n"
          ]
        }
      ],
      "source": [
        "#drop label column from dataframes and convert to numpy arrays \n",
        "x_attack = df_attack.drop(columns='Label',axis=1).values\n",
        "y_attack = df_attack['Label'].values\n",
        "\n",
        "x_benign = df_benign.drop('Label',axis=1).values\n",
        "y_benign = df_benign['Label'].values\n",
        "\n",
        "print(f'x_attack shape:{len(x_attack)}')\n",
        "print(f'x_benign shape:{len(x_benign)}')\n",
        "print(f'y_attack shape:{len(y_attack)}')\n",
        "print(f'y_benign shape:{len(y_benign)}')"
      ]
    },
    {
      "cell_type": "code",
      "execution_count": 23,
      "metadata": {
        "id": "43XcungznM_e"
      },
      "outputs": [],
      "source": [
        "#split arrays using train_test_split\n",
        "x_benign_train, x_benign_test, y_benign_train, y_benign_test = train_test_split(x_benign, y_benign, test_size=0.25, random_state=10)"
      ]
    },
    {
      "cell_type": "code",
      "execution_count": 27,
      "metadata": {
        "colab": {
          "base_uri": "https://localhost:8080/"
        },
        "id": "eGD3UbOhrF2S",
        "outputId": "db73457c-70db-4cec-883a-9bf04e4b35ae"
      },
      "outputs": [
        {
          "name": "stdout",
          "output_type": "stream",
          "text": [
            "x_benign_train shape: (17240, 76)\n",
            "x_benign_test shape: (5747, 76)\n"
          ]
        }
      ],
      "source": [
        "print(f'x_benign_train shape: {x_benign_train.shape}')\n",
        "print(f'x_benign_test shape: {x_benign_test.shape}')"
      ]
    },
    {
      "cell_type": "code",
      "execution_count": 28,
      "metadata": {
        "id": "IWpoRHu5rkYH"
      },
      "outputs": [],
      "source": [
        "#scale the data using MinMaxScaler\n",
        "scaler = MinMaxScaler()\n",
        "x_benign_train_scaled = scaler.fit_transform(x_benign_train)\n",
        "x_benign_test_scaled = scaler.transform(x_benign_test)\n",
        "x_attack_scaled = scaler.transform(x_attack)"
      ]
    },
    {
      "cell_type": "markdown",
      "metadata": {
        "id": "sdYQ0aotsSh0"
      },
      "source": [
        "##### Set the following hyperparameter values: [5% marks]. • batch_size = 64 • num_features= 76 • latent_dim = 5 • number of neurons in the hidden layers= 100 • epochs = 50"
      ]
    },
    {
      "cell_type": "code",
      "execution_count": 29,
      "metadata": {
        "id": "nCCngop-sX7g"
      },
      "outputs": [],
      "source": [
        "# data features\n",
        "num_features = 76\n",
        "\n",
        "# Training parameters.\n",
        "batch_size = 64\n",
        "epochs = 50\n",
        "\n",
        "# Neural Network Parameters\n",
        "hidden_1 = 100 # 1st layer number of neurons\n",
        "hidden_2 = 100 # 2nd layer number of neurons\n",
        "latent_dim = 5 "
      ]
    },
    {
      "cell_type": "markdown",
      "metadata": {
        "id": "Zkx3rr4bsn-j"
      },
      "source": [
        "##### 3. Using Keras Functional API, define the encoder, sampling layer, the decoder and instantiate the VAE model. Note both the\n",
        "encoder and decoder have two hidden layers each. [25% marks]"
      ]
    },
    {
      "cell_type": "code",
      "execution_count": 30,
      "metadata": {
        "id": "_s8TidrPsgXI"
      },
      "outputs": [],
      "source": [
        "#define the sampling layer\n",
        "def sampling(args):\n",
        "    z_mean, z_log_var = args\n",
        "    eps = tf.random.normal(tf.shape(z_log_var), dtype=tf.float32, mean=0., stddev=1.0, name='epsilon')\n",
        "    z = z_mean + tf.exp(z_log_var / 2) * eps\n",
        "    return z"
      ]
    },
    {
      "cell_type": "code",
      "execution_count": 31,
      "metadata": {
        "id": "aOi4tV9wzp7N"
      },
      "outputs": [],
      "source": [
        "#define encoder\n",
        "inputs = Input(shape=(num_features, ), name='input') #num_features = 76 # number of input features\n",
        "x1 = Dense(hidden_1, activation='relu')(inputs) ## First hidden layer \n",
        "x2 = Dense(hidden_2, activation='relu')(x1) ##Second hidden layer\n",
        "z_mean = Dense(latent_dim, name='z_mean')(x2) ### Latent layer = 5\n",
        "z_log_var = Dense(latent_dim, name='z_log_var')(x2) #latent_dim = 5"
      ]
    },
    {
      "cell_type": "code",
      "execution_count": 32,
      "metadata": {
        "colab": {
          "base_uri": "https://localhost:8080/"
        },
        "id": "hGAq08QN0BO4",
        "outputId": "af7f5f79-0491-4255-9c2f-8d5231cfb447"
      },
      "outputs": [
        {
          "name": "stdout",
          "output_type": "stream",
          "text": [
            "Model: \"encoder\"\n",
            "__________________________________________________________________________________________________\n",
            " Layer (type)                   Output Shape         Param #     Connected to                     \n",
            "==================================================================================================\n",
            " input (InputLayer)             [(None, 76)]         0           []                               \n",
            "                                                                                                  \n",
            " dense (Dense)                  (None, 100)          7700        ['input[0][0]']                  \n",
            "                                                                                                  \n",
            " dense_1 (Dense)                (None, 100)          10100       ['dense[0][0]']                  \n",
            "                                                                                                  \n",
            " z_mean (Dense)                 (None, 5)            505         ['dense_1[0][0]']                \n",
            "                                                                                                  \n",
            " z_log_var (Dense)              (None, 5)            505         ['dense_1[0][0]']                \n",
            "                                                                                                  \n",
            " z (Lambda)                     (None, 5)            0           ['z_mean[0][0]',                 \n",
            "                                                                  'z_log_var[0][0]']              \n",
            "                                                                                                  \n",
            "==================================================================================================\n",
            "Total params: 18,810\n",
            "Trainable params: 18,810\n",
            "Non-trainable params: 0\n",
            "__________________________________________________________________________________________________\n"
          ]
        }
      ],
      "source": [
        "#define sampling/latent layer\n",
        "z = Lambda(sampling, name='z')([z_mean, z_log_var])\n",
        "\n",
        "# instantiate encoder model\n",
        "encoder = Model(inputs, [z_mean, z_log_var, z], name='encoder')\n",
        "encoder.summary()"
      ]
    },
    {
      "cell_type": "code",
      "execution_count": 33,
      "metadata": {
        "colab": {
          "base_uri": "https://localhost:8080/"
        },
        "id": "dJ3ZhUPp0EgF",
        "outputId": "4bc721a7-7f4f-4fe6-e7b6-4e6c70230460"
      },
      "outputs": [
        {
          "name": "stdout",
          "output_type": "stream",
          "text": [
            "Model: \"decoder\"\n",
            "_________________________________________________________________\n",
            " Layer (type)                Output Shape              Param #   \n",
            "=================================================================\n",
            " z_sampling (InputLayer)     [(None, 5)]               0         \n",
            "                                                                 \n",
            " dense_2 (Dense)             (None, 100)               600       \n",
            "                                                                 \n",
            " dense_3 (Dense)             (None, 100)               10100     \n",
            "                                                                 \n",
            " dense_4 (Dense)             (None, 76)                7676      \n",
            "                                                                 \n",
            "=================================================================\n",
            "Total params: 18,376\n",
            "Trainable params: 18,376\n",
            "Non-trainable params: 0\n",
            "_________________________________________________________________\n"
          ]
        }
      ],
      "source": [
        "#define decoder\n",
        "latent_inputs = Input(shape=(latent_dim,), name='z_sampling')\n",
        "x1 = Dense(hidden_2, activation='relu')(latent_inputs) ## First hidden layer \n",
        "x2 = Dense(hidden_1, activation='relu')(x1) ## Second hidden layer \n",
        "outputs = Dense(num_features, activation='sigmoid')(x2) #num_features = 29 # number of input features\n",
        "\n",
        "# instantiate decoder model\n",
        "decoder = Model(latent_inputs, outputs, name='decoder')\n",
        "decoder.summary()"
      ]
    },
    {
      "cell_type": "code",
      "execution_count": 34,
      "metadata": {
        "id": "y4ddNU6d0au5"
      },
      "outputs": [],
      "source": [
        "#instantiate VAE model\n",
        "outputs = decoder(encoder(inputs)[2])  # Select the z value from outputs of the encoder\n",
        "vae = Model(inputs, outputs, name='vae')"
      ]
    },
    {
      "cell_type": "code",
      "execution_count": 35,
      "metadata": {
        "colab": {
          "base_uri": "https://localhost:8080/",
          "height": 312
        },
        "id": "bJ3e0s2N0k6i",
        "outputId": "ed65a763-0c4b-40a7-d11d-da654dec1f84"
      },
      "outputs": [
        {
          "data": {
            "image/png": "[encoded data removed]",
            "text/plain": [
              "<IPython.core.display.Image object>"
            ]
          },
          "execution_count": 35,
          "metadata": {},
          "output_type": "execute_result"
        }
      ],
      "source": [
        "#VAE model structure\n",
        "keras.utils.plot_model(vae, \"VAE_MODEL.png\", show_shapes=True)"
      ]
    },
    {
      "cell_type": "markdown",
      "metadata": {
        "id": "sVZ1HBsv01Sm"
      },
      "source": [
        "##### 4) Define the VAE loss function and compile the model using this loss metric and optimizer to be used is Adam. The learning rate value must be 0.001. [10% marks]."
      ]
    },
    {
      "cell_type": "code",
      "execution_count": 36,
      "metadata": {
        "colab": {
          "base_uri": "https://localhost:8080/"
        },
        "id": "uF7EXF6u0xqF",
        "outputId": "c882b2c2-7a02-4915-bc7c-34938427e601"
      },
      "outputs": [
        {
          "name": "stdout",
          "output_type": "stream",
          "text": [
            "Model: \"vae\"\n",
            "__________________________________________________________________________________________________\n",
            " Layer (type)                   Output Shape         Param #     Connected to                     \n",
            "==================================================================================================\n",
            " input (InputLayer)             [(None, 76)]         0           []                               \n",
            "                                                                                                  \n",
            " encoder (Functional)           [(None, 5),          18810       ['input[0][0]']                  \n",
            "                                 (None, 5),                                                       \n",
            "                                 (None, 5)]                                                       \n",
            "                                                                                                  \n",
            " decoder (Functional)           (None, 76)           18376       ['encoder[0][2]']                \n",
            "                                                                                                  \n",
            " dense (Dense)                  (None, 100)          7700        ['input[0][0]']                  \n",
            "                                                                                                  \n",
            " dense_1 (Dense)                (None, 100)          10100       ['dense[0][0]']                  \n",
            "                                                                                                  \n",
            " z_log_var (Dense)              (None, 5)            505         ['dense_1[0][0]']                \n",
            "                                                                                                  \n",
            " z_mean (Dense)                 (None, 5)            505         ['dense_1[0][0]']                \n",
            "                                                                                                  \n",
            " tf.__operators__.add (TFOpLamb  (None, 5)           0           ['z_log_var[0][0]']              \n",
            " da)                                                                                              \n",
            "                                                                                                  \n",
            " tf.math.square (TFOpLambda)    (None, 5)            0           ['z_mean[0][0]']                 \n",
            "                                                                                                  \n",
            " tf.convert_to_tensor (TFOpLamb  (None, 76)          0           ['decoder[0][0]']                \n",
            " da)                                                                                              \n",
            "                                                                                                  \n",
            " tf.cast (TFOpLambda)           (None, 76)           0           ['input[0][0]']                  \n",
            "                                                                                                  \n",
            " tf.math.subtract (TFOpLambda)  (None, 5)            0           ['tf.__operators__.add[0][0]',   \n",
            "                                                                  'tf.math.square[0][0]']         \n",
            "                                                                                                  \n",
            " tf.math.exp (TFOpLambda)       (None, 5)            0           ['z_log_var[0][0]']              \n",
            "                                                                                                  \n",
            " tf.math.squared_difference (TF  (None, 76)          0           ['tf.convert_to_tensor[0][0]',   \n",
            " OpLambda)                                                        'tf.cast[0][0]']                \n",
            "                                                                                                  \n",
            " tf.math.subtract_1 (TFOpLambda  (None, 5)           0           ['tf.math.subtract[0][0]',       \n",
            " )                                                                'tf.math.exp[0][0]']            \n",
            "                                                                                                  \n",
            " tf.math.reduce_mean (TFOpLambd  (None,)             0           ['tf.math.squared_difference[0][0\n",
            " a)                                                              ]']                              \n",
            "                                                                                                  \n",
            " tf.math.reduce_sum (TFOpLambda  (None,)             0           ['tf.math.subtract_1[0][0]']     \n",
            " )                                                                                                \n",
            "                                                                                                  \n",
            " tf.math.multiply (TFOpLambda)  (None,)              0           ['tf.math.reduce_mean[0][0]']    \n",
            "                                                                                                  \n",
            " tf.math.multiply_1 (TFOpLambda  (None,)             0           ['tf.math.reduce_sum[0][0]']     \n",
            " )                                                                                                \n",
            "                                                                                                  \n",
            " tf.__operators__.add_1 (TFOpLa  (None,)             0           ['tf.math.multiply[0][0]',       \n",
            " mbda)                                                            'tf.math.multiply_1[0][0]']     \n",
            "                                                                                                  \n",
            " tf.math.reduce_mean_1 (TFOpLam  ()                  0           ['tf.__operators__.add_1[0][0]'] \n",
            " bda)                                                                                             \n",
            "                                                                                                  \n",
            " add_loss (AddLoss)             ()                   0           ['tf.math.reduce_mean_1[0][0]']  \n",
            "                                                                                                  \n",
            "==================================================================================================\n",
            "Total params: 37,186\n",
            "Trainable params: 37,186\n",
            "Non-trainable params: 0\n",
            "__________________________________________________________________________________________________\n"
          ]
        }
      ],
      "source": [
        "# VAE Loss\n",
        "# Reconstruction loss\n",
        "reconstruction_loss = tf.losses.mean_squared_error(inputs, outputs)\n",
        "reconstruction_loss = reconstruction_loss * num_features\n",
        "\n",
        "# KL Divergence loss\n",
        "kl_loss = 1 + z_log_var - tf.square(z_mean) - tf.exp(z_log_var)\n",
        "kl_loss = -0.5 * tf.reduce_sum(kl_loss, axis=-1)\n",
        "vae_loss = tf.reduce_mean(reconstruction_loss + kl_loss)\n",
        "\n",
        "vae.add_loss(vae_loss)\n",
        "adam = optimizers.Adam(learning_rate=0.001)\n",
        "vae.compile(optimizer=adam) ##compile the model\n",
        "vae.summary()"
      ]
    },
    {
      "cell_type": "markdown",
      "metadata": {
        "id": "8rbvSGTN1FlH"
      },
      "source": [
        "##### 5) Train the model with batch_size and epochs set above. Display the loss curve during training. Then save the encoder, decoder and vae models (in .h5 format) using model.save. [15% marks]."
      ]
    },
    {
      "cell_type": "code",
      "execution_count": 39,
      "metadata": {
        "colab": {
          "base_uri": "https://localhost:8080/"
        },
        "id": "5dAZahr91DxP",
        "outputId": "ecd8acbf-54cd-4d83-a75d-4863a4081f33"
      },
      "outputs": [
        {
          "name": "stdout",
          "output_type": "stream",
          "text": [
            "Epoch 1/50\n",
            "216/216 [==============================] - 5s 6ms/step - loss: 3.0729 - val_loss: 1.4677\n",
            "Epoch 2/50\n",
            "216/216 [==============================] - 1s 5ms/step - loss: 1.4771 - val_loss: 1.4503\n",
            "Epoch 3/50\n",
            "216/216 [==============================] - 1s 5ms/step - loss: 1.4744 - val_loss: 1.4495\n",
            "Epoch 4/50\n",
            "216/216 [==============================] - 1s 5ms/step - loss: 1.4642 - val_loss: 1.4415\n",
            "Epoch 5/50\n",
            "216/216 [==============================] - 1s 5ms/step - loss: 1.4607 - val_loss: 1.4379\n",
            "Epoch 6/50\n",
            "216/216 [==============================] - 1s 6ms/step - loss: 1.4560 - val_loss: 1.4325\n",
            "Epoch 7/50\n",
            "216/216 [==============================] - 1s 6ms/step - loss: 1.4538 - val_loss: 1.4257\n",
            "Epoch 8/50\n",
            "216/216 [==============================] - 1s 5ms/step - loss: 1.4532 - val_loss: 1.4294\n",
            "Epoch 9/50\n",
            "216/216 [==============================] - 1s 5ms/step - loss: 1.4513 - val_loss: 1.4195\n",
            "Epoch 10/50\n",
            "216/216 [==============================] - 1s 4ms/step - loss: 1.4470 - val_loss: 1.4232\n",
            "Epoch 11/50\n",
            "216/216 [==============================] - 1s 5ms/step - loss: 1.4477 - val_loss: 1.4302\n",
            "Epoch 12/50\n",
            "216/216 [==============================] - 1s 4ms/step - loss: 1.4482 - val_loss: 1.4223\n",
            "Epoch 13/50\n",
            "216/216 [==============================] - 1s 5ms/step - loss: 1.4505 - val_loss: 1.4212\n",
            "Epoch 14/50\n",
            "216/216 [==============================] - 1s 4ms/step - loss: 1.4461 - val_loss: 1.4222\n",
            "Epoch 15/50\n",
            "216/216 [==============================] - 1s 5ms/step - loss: 1.4465 - val_loss: 1.4271\n",
            "Epoch 16/50\n",
            "216/216 [==============================] - 1s 5ms/step - loss: 1.4438 - val_loss: 1.4257\n",
            "Epoch 17/50\n",
            "216/216 [==============================] - 1s 5ms/step - loss: 1.4450 - val_loss: 1.4266\n",
            "Epoch 18/50\n",
            "216/216 [==============================] - 1s 7ms/step - loss: 1.4453 - val_loss: 1.4180\n",
            "Epoch 19/50\n",
            "216/216 [==============================] - 1s 6ms/step - loss: 1.4449 - val_loss: 1.4245\n",
            "Epoch 20/50\n",
            "216/216 [==============================] - 1s 5ms/step - loss: 1.4472 - val_loss: 1.4196\n",
            "Epoch 21/50\n",
            "216/216 [==============================] - 1s 5ms/step - loss: 1.4440 - val_loss: 1.4219\n",
            "Epoch 22/50\n",
            "216/216 [==============================] - 1s 5ms/step - loss: 1.4405 - val_loss: 1.4125\n",
            "Epoch 23/50\n",
            "216/216 [==============================] - 1s 5ms/step - loss: 1.4375 - val_loss: 1.4169\n",
            "Epoch 24/50\n",
            "216/216 [==============================] - 1s 5ms/step - loss: 1.4423 - val_loss: 1.4070\n",
            "Epoch 25/50\n",
            "216/216 [==============================] - 1s 5ms/step - loss: 1.4432 - val_loss: 1.4232\n",
            "Epoch 26/50\n",
            "216/216 [==============================] - 1s 5ms/step - loss: 1.4398 - val_loss: 1.4245\n",
            "Epoch 27/50\n",
            "216/216 [==============================] - 1s 5ms/step - loss: 1.4435 - val_loss: 1.4208\n",
            "Epoch 28/50\n",
            "216/216 [==============================] - 1s 5ms/step - loss: 1.4332 - val_loss: 1.4227\n",
            "Epoch 29/50\n",
            "216/216 [==============================] - 1s 6ms/step - loss: 1.4389 - val_loss: 1.4149\n",
            "Epoch 30/50\n",
            "216/216 [==============================] - 1s 6ms/step - loss: 1.4395 - val_loss: 1.4211\n",
            "Epoch 31/50\n",
            "216/216 [==============================] - 1s 5ms/step - loss: 1.4365 - val_loss: 1.4143\n",
            "Epoch 32/50\n",
            "216/216 [==============================] - 1s 5ms/step - loss: 1.4357 - val_loss: 1.4178\n",
            "Epoch 33/50\n",
            "216/216 [==============================] - 1s 4ms/step - loss: 1.4408 - val_loss: 1.4305\n",
            "Epoch 34/50\n",
            "216/216 [==============================] - 1s 5ms/step - loss: 1.4364 - val_loss: 1.4109\n",
            "Epoch 35/50\n",
            "216/216 [==============================] - 1s 5ms/step - loss: 1.4383 - val_loss: 1.4169\n",
            "Epoch 36/50\n",
            "216/216 [==============================] - 1s 5ms/step - loss: 1.4355 - val_loss: 1.4013\n",
            "Epoch 37/50\n",
            "216/216 [==============================] - 1s 5ms/step - loss: 1.4376 - val_loss: 1.4068\n",
            "Epoch 38/50\n",
            "216/216 [==============================] - 1s 5ms/step - loss: 1.4424 - val_loss: 1.4136\n",
            "Epoch 39/50\n",
            "216/216 [==============================] - 1s 5ms/step - loss: 1.4338 - val_loss: 1.4228\n",
            "Epoch 40/50\n",
            "216/216 [==============================] - 1s 5ms/step - loss: 1.4385 - val_loss: 1.4195\n",
            "Epoch 41/50\n",
            "216/216 [==============================] - 1s 7ms/step - loss: 1.4354 - val_loss: 1.4037\n",
            "Epoch 42/50\n",
            "216/216 [==============================] - 1s 6ms/step - loss: 1.4344 - val_loss: 1.4144\n",
            "Epoch 43/50\n",
            "216/216 [==============================] - 1s 5ms/step - loss: 1.4419 - val_loss: 1.4213\n",
            "Epoch 44/50\n",
            "216/216 [==============================] - 1s 5ms/step - loss: 1.4341 - val_loss: 1.4040\n",
            "Epoch 45/50\n",
            "216/216 [==============================] - 1s 5ms/step - loss: 1.4389 - val_loss: 1.4114\n",
            "Epoch 46/50\n",
            "216/216 [==============================] - 1s 5ms/step - loss: 1.4411 - val_loss: 1.4061\n",
            "Epoch 47/50\n",
            "216/216 [==============================] - 1s 5ms/step - loss: 1.4366 - val_loss: 1.4170\n",
            "Epoch 48/50\n",
            "216/216 [==============================] - 1s 5ms/step - loss: 1.4407 - val_loss: 1.4141\n",
            "Epoch 49/50\n",
            "216/216 [==============================] - 1s 5ms/step - loss: 1.4339 - val_loss: 1.4071\n",
            "Epoch 50/50\n",
            "216/216 [==============================] - 1s 5ms/step - loss: 1.4363 - val_loss: 1.4146\n"
          ]
        }
      ],
      "source": [
        "# Fit Model\n",
        "\n",
        "history = vae.fit(x_benign_train_scaled, x_benign_train_scaled, verbose = 1, batch_size=batch_size, epochs=epochs,shuffle=True,validation_split=0.2)"
      ]
    },
    {
      "cell_type": "code",
      "execution_count": 45,
      "metadata": {
        "colab": {
          "base_uri": "https://localhost:8080/",
          "height": 676
        },
        "id": "5g_sGR-E26cA",
        "outputId": "e7c11c07-1d05-45a7-8b55-24b1eb79a83a"
      },
      "outputs": [
        {
          "data": {
            "image/png": "[encoded data removed]",
            "text/plain": [
              "<Figure size 1000x800 with 1 Axes>"
            ]
          },
          "metadata": {},
          "output_type": "display_data"
        }
      ],
      "source": [
        "#loss plot of training and validation data\n",
        "\n",
        "pd.DataFrame(history.history).plot(figsize=(10, 8))\n",
        "plt.grid(True)\n",
        "plt.show()"
      ]
    },
    {
      "cell_type": "code",
      "execution_count": 46,
      "metadata": {
        "colab": {
          "base_uri": "https://localhost:8080/"
        },
        "id": "KqPf8TwJ3W8l",
        "outputId": "f3d9f889-937b-432f-a8a3-a1000b828084"
      },
      "outputs": [
        {
          "name": "stderr",
          "output_type": "stream",
          "text": [
            "WARNING:tensorflow:Found duplicated `Variable`s in Model's `weights`. This is usually caused by `Variable`s being shared by Layers in the Model. These `Variable`s will be treated as separate `Variable`s when the Model is restored. To avoid this, please save with `save_format=\"tf\"`.\n"
          ]
        }
      ],
      "source": [
        "#save model\n",
        "vae.save(\"vae_50.h5\") "
      ]
    },
    {
      "cell_type": "markdown",
      "metadata": {
        "id": "DWcF16bL3qqq"
      },
      "source": [
        "##### 6) Make predictions on test data using .predict() and visualize your plot comparing benign observations with attack observations. Select the most appropriate threshold value by observing the graph and using trial and error approach. [20% marks]."
      ]
    },
    {
      "cell_type": "code",
      "execution_count": 52,
      "metadata": {
        "colab": {
          "base_uri": "https://localhost:8080/"
        },
        "id": "9_h1daE93sFr",
        "outputId": "612ee226-8bb1-47fb-aa73-ba7a67aa846d"
      },
      "outputs": [
        {
          "name": "stdout",
          "output_type": "stream",
          "text": [
            "352/352 [==============================] - 1s 3ms/step\n",
            "(11245,) (11245,)\n"
          ]
        }
      ],
      "source": [
        "#predictions on test data\n",
        "\n",
        "#combine test and attack data\n",
        "test_obs = x_benign_test_scaled.copy()\n",
        "test_obs = np.append(test_obs, x_attack_scaled, axis=0)\n",
        "y_obs = y_benign_test\n",
        "y_obs = np.append(y_obs, y_attack, axis=0)\n",
        "\n",
        "\n",
        "#predict on test and attack data\n",
        "test_preds=vae.predict(test_obs)\n",
        "mse_test = np.mean(np.power(test_obs - test_preds, 2), axis=1)   \n",
        "print(mse_test.shape, y_obs.shape)\n",
        "\n",
        "tst_error_data = pd.DataFrame({'recon_error': mse_test,'Class': y_obs})"
      ]
    },
    {
      "cell_type": "code",
      "execution_count": 53,
      "metadata": {
        "colab": {
          "base_uri": "https://localhost:8080/",
          "height": 449
        },
        "id": "NUufwqBf-X9V",
        "outputId": "ae4fc6a8-10ea-447d-a199-0b04588328de"
      },
      "outputs": [
        {
          "data": {
            "image/png": "[encoded data removed]",
            "text/plain": [
              "<Figure size 640x480 with 1 Axes>"
            ]
          },
          "metadata": {},
          "output_type": "display_data"
        }
      ],
      "source": [
        "#plotting the data classes\n",
        "\n",
        "group1 = tst_error_data.groupby('Class')\n",
        "fig, ax = plt.subplots()\n",
        "for name, group in group1:\n",
        "    ax.plot(group.index, group.recon_error, marker='o', ms=3.5, linestyle='',label= \"Fraud\" if name == 1 else \"Normal\")\n",
        "ax.legend()\n",
        "plt.ylabel(\"Reconstruction error\")\n",
        "plt.xlabel(\"Data point index\")\n",
        "plt.show()"
      ]
    },
    {
      "cell_type": "markdown",
      "metadata": {
        "id": "13kt2_zk-mH8"
      },
      "source": [
        "7) Perform the metric analysis to evaluate the performance of your classifier at your selected threshold. Display the results in terms of TPR, FPR, TNR, FNR, Precision, F1_score and ROC-AUC graph. [15% marks]."
      ]
    },
    {
      "cell_type": "code",
      "execution_count": 54,
      "metadata": {
        "colab": {
          "base_uri": "https://localhost:8080/"
        },
        "id": "UVKiyVIr-dPV",
        "outputId": "dc94b0aa-bcab-4a47-f1f1-7dd572276be0"
      },
      "outputs": [
        {
          "name": "stdout",
          "output_type": "stream",
          "text": [
            "Confusion matrix:\n",
            "[[5510  237]\n",
            " [3860 1638]]\n",
            "\n",
            "Total number of true positives 1638\n",
            "Total number of false negatives 3860\n",
            "Total number of false positives 237\n",
            "Total number of true negatives 5510\n",
            "\n",
            "Classifier Accuracy: 63.57%\n",
            "True Positive Rate (TPR/Recall/Sensitivity): 29.79%\n",
            "True Negative Rate (TNR/Specificity/selectivity):95.88%\n",
            "False Positive Rate (FPR): 4.12%\n",
            "False Negative Rate (FNR): 70.21%\n",
            "Precision/Positive Predictive value:87.36%\n",
            "F1-Score: 44.43%\n"
          ]
        }
      ],
      "source": [
        "# TPR, FPR, TNR, FNR, Precision, F1 Score\n",
        "\n",
        "threshold=0.05 ##selected using trial and error based on improving the TPR and TNR values\n",
        "\n",
        "y_pred = [1 if e > threshold else 0 for e in tst_error_data.recon_error.values]\n",
        "\n",
        "cm= confusion_matrix(tst_error_data.Class, y_pred)\n",
        "print(\"Confusion matrix:\")\n",
        "print(cm)\n",
        "\n",
        "tn = cm[0][0]\n",
        "fp = cm[0][1]\n",
        "fn = cm[1][0]\n",
        "tp = cm[1][1]\n",
        "\n",
        "print(\"\\nTotal number of true positives\", tp)\n",
        "print(\"Total number of false negatives\",fn)\n",
        "print(\"Total number of false positives\",fp)\n",
        "print(\"Total number of true negatives\",tn)\n",
        "\n",
        "acc=float(tp+tn)/(tp+tn+fp+fn)\n",
        "\n",
        "print('\\nClassifier Accuracy: %.2f%%' % (acc * 100))\n",
        "\n",
        "tpr = float(tp)/(tp+fn)\n",
        "\n",
        "print('True Positive Rate (TPR/Recall/Sensitivity): %.2f%%' % (tpr * 100))\n",
        "\n",
        "specificity = float (tn)/(tn+fp)\n",
        "\n",
        "print (\"True Negative Rate (TNR/Specificity/selectivity):%.2f%%\" % (specificity*100)) \n",
        "\n",
        "fpr = float(fp)/(fp+tn)\n",
        "print(\"False Positive Rate (FPR): %.2f%%\" % (fpr * 100))\n",
        "\n",
        "fnr = fn/ (fn+ tp)\n",
        "print(\"False Negative Rate (FNR): %.2f%%\" % (fnr*100))\n",
        "\n",
        "precision=float(tp)/(tp+fp)\n",
        "print(\"Precision/Positive Predictive value:%.2f%%\" %(precision*100))\n",
        "\n",
        "fscore = 2*((precision*tpr)/(precision+tpr))\n",
        "print(\"F1-Score: %.2f%%\" %(fscore*100))"
      ]
    },
    {
      "cell_type": "code",
      "execution_count": 59,
      "metadata": {
        "colab": {
          "base_uri": "https://localhost:8080/",
          "height": 472
        },
        "id": "DRiAI-QK-zMD",
        "outputId": "ce429486-c99b-47ed-e7a9-8dbddfc0d17c"
      },
      "outputs": [
        {
          "data": {
            "image/png": "[encoded data removed]",
            "text/plain": [
              "<Figure size 640x480 with 1 Axes>"
            ]
          },
          "metadata": {},
          "output_type": "display_data"
        }
      ],
      "source": [
        "# ROC-AUC Curve\n",
        "\n",
        "fpr, tpr, thresholds = roc_curve(tst_error_data.Class,tst_error_data.recon_error)\n",
        "roc_auc = auc(fpr, tpr)\n",
        "plt.title('Receiver Operating Characteristic')\n",
        "plt.plot(fpr, tpr, label='AUC = %0.2f'% roc_auc,linewidth = 4, color='b')\n",
        "plt.legend(loc='lower right')\n",
        "plt.plot([0,1],[0,1],'r--',linewidth = 4)\n",
        "plt.xlim([-0.001, 1])\n",
        "plt.ylim([0, 1.001])\n",
        "plt.ylabel('True Positive Rate')\n",
        "plt.xlabel('False Positive Rate')\n",
        "plt.show()"
      ]
    }
  ],
  "metadata": {
    "accelerator": "GPU",
    "colab": {
      "provenance": []
    },
    "gpuClass": "standard",
    "kernelspec": {
      "display_name": "Python 3",
      "name": "python3"
    },
    "language_info": {
      "name": "python"
    },
    "orig_nbformat": 4
  },
  "nbformat": 4,
  "nbformat_minor": 0
}
